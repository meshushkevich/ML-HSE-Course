{
 "cells": [
  {
   "cell_type": "markdown",
   "id": "d9eb8e73",
   "metadata": {},
   "source": [
    "# Imports"
   ]
  },
  {
   "cell_type": "code",
   "execution_count": 1,
   "id": "1667e6bc",
   "metadata": {},
   "outputs": [],
   "source": [
    "import pandas as pd\n",
    "import numpy as np\n",
    "import torch\n",
    "from torch import nn\n",
    "from torch.utils.data import DataLoader, TensorDataset\n",
    "from sklearn.model_selection import train_test_split\n",
    "from sklearn.preprocessing import StandardScaler\n",
    "from sklearn.metrics import classification_report, confusion_matrix\n",
    "import matplotlib.pyplot as plt\n",
    "import seaborn as sns\n",
    "\n",
    "from pathlib import Path\n",
    "\n",
    "import warnings\n",
    "warnings.filterwarnings(\"ignore\")"
   ]
  },
  {
   "cell_type": "markdown",
   "id": "23216ff1",
   "metadata": {},
   "source": [
    "# Constants"
   ]
  },
  {
   "cell_type": "code",
   "execution_count": 2,
   "id": "4611c120",
   "metadata": {},
   "outputs": [],
   "source": [
    "BATCH_SIZE = 32\n",
    "EPOCHS = 50\n",
    "LR = 1e-3\n",
    "DEVICE = torch.device(\"cuda\" if torch.cuda.is_available() else \"cpu\")"
   ]
  },
  {
   "cell_type": "markdown",
   "id": "5985e530",
   "metadata": {},
   "source": [
    "# Read Data"
   ]
  },
  {
   "cell_type": "code",
   "execution_count": 3,
   "id": "ec4fd80c",
   "metadata": {},
   "outputs": [],
   "source": [
    "dataset_path = Path().resolve() / \"wine\"\n",
    "dataset_path\n",
    "df_red = pd.read_csv(dataset_path / \"winequality-red.csv\", sep=';')\n",
    "df_white = pd.read_csv(dataset_path / \"winequality-white.csv\", sep=';')\n",
    "df_red['color'] = 1\n",
    "df_white['color'] = 0\n",
    "df = pd.concat([df_red, df_white], ignore_index=True)"
   ]
  },
  {
   "cell_type": "code",
   "execution_count": 4,
   "id": "cf86a958",
   "metadata": {},
   "outputs": [],
   "source": [
    "X = df.drop('quality', axis=1).values\n",
    "y = df['quality'].values"
   ]
  },
  {
   "cell_type": "code",
   "execution_count": 5,
   "id": "a3e5fcd1",
   "metadata": {},
   "outputs": [],
   "source": [
    "X_train, X_val, y_train, y_val = train_test_split(\n",
    "    X, y, test_size=0.2, random_state=42,\n",
    ")"
   ]
  },
  {
   "cell_type": "code",
   "execution_count": 6,
   "id": "55ac5c35",
   "metadata": {},
   "outputs": [],
   "source": [
    "scaler = StandardScaler()\n",
    "X_train = scaler.fit_transform(X_train)\n",
    "X_val = scaler.transform(X_val)"
   ]
  },
  {
   "cell_type": "code",
   "execution_count": 7,
   "id": "0cf563da",
   "metadata": {},
   "outputs": [],
   "source": [
    "X_train = torch.tensor(X_train, dtype=torch.float32)\n",
    "y_train = torch.tensor(y_train - 3, dtype=torch.long).squeeze()\n",
    "X_val = torch.tensor(X_val, dtype=torch.float32)\n",
    "y_val = torch.tensor(y_val - 3, dtype=torch.long).squeeze()\n",
    "\n",
    "# Substract 3 because quality is from 3 to 9, and we want it from 0 to 6"
   ]
  },
  {
   "cell_type": "code",
   "execution_count": 8,
   "id": "e4a603cc",
   "metadata": {},
   "outputs": [],
   "source": [
    "train_ds = TensorDataset(X_train, y_train)\n",
    "val_ds = TensorDataset(X_val, y_val)\n",
    "\n",
    "train_loader = DataLoader(train_ds, batch_size=BATCH_SIZE, shuffle=True)\n",
    "val_loader = DataLoader(val_ds, batch_size=BATCH_SIZE)"
   ]
  },
  {
   "cell_type": "code",
   "execution_count": 9,
   "id": "fcbeb615",
   "metadata": {},
   "outputs": [],
   "source": [
    "n_features = X_train.shape[1]\n",
    "n_classes = len(np.unique(y))"
   ]
  },
  {
   "cell_type": "markdown",
   "id": "173090e4",
   "metadata": {},
   "source": [
    "# Prepare pipeline"
   ]
  },
  {
   "cell_type": "code",
   "execution_count": 10,
   "id": "9ea19d5d",
   "metadata": {},
   "outputs": [],
   "source": [
    "class MLP(nn.Module):\n",
    "    def __init__(self, hidden_layers : list[int] = [64, 32], activation = nn.ReLU):\n",
    "        super().__init__()\n",
    "        layers = []\n",
    "        in_dim = n_features\n",
    "        for h in hidden_layers:\n",
    "            layers.append(nn.Linear(in_dim, h))\n",
    "            layers.append(activation())\n",
    "            in_dim = h\n",
    "        layers.append(nn.Linear(in_dim, n_classes))\n",
    "        self.net = nn.Sequential(*layers)\n",
    "\n",
    "    def forward(self, x):\n",
    "        return self.net(x)"
   ]
  },
  {
   "cell_type": "code",
   "execution_count": 11,
   "id": "cb5f79fa",
   "metadata": {},
   "outputs": [],
   "source": [
    "def train_model(model: nn.Module, optimizer: torch.optim, epochs: int, lr: float):\n",
    "    criterion = nn.CrossEntropyLoss()\n",
    "    opt = optimizer(model.parameters(), lr=lr)\n",
    "\n",
    "    for ep in range(epochs):\n",
    "        model.train()\n",
    "        total_loss = 0\n",
    "        for xb, yb in train_loader:\n",
    "            logits = model(xb)\n",
    "            loss = criterion(logits, yb)\n",
    "            opt.zero_grad()\n",
    "            loss.backward()\n",
    "            opt.step()\n",
    "            total_loss += loss.item()*xb.size(0)\n",
    "        avg_loss = total_loss / len(train_loader.dataset)\n",
    "\n",
    "        # Validation\n",
    "        model.eval()\n",
    "        xb_val,yb_val = next(iter(val_loader))\n",
    "        with torch.no_grad():\n",
    "            logits = model(xb_val)\n",
    "            val_loss = criterion(logits, yb_val).item()\n",
    "            preds = torch.argmax(logits, dim=1)\n",
    "            acc = (preds == yb_val).float().mean().item()\n",
    "\n",
    "        if ep % 10 == 0 or ep == epochs-1:\n",
    "            print(f\"Epoch {ep:02d} | train_loss={avg_loss:.4f} val_loss={val_loss:.4f} acc={acc:.4f}\")\n",
    "\n",
    "    return model"
   ]
  },
  {
   "cell_type": "code",
   "execution_count": 12,
   "id": "d78905ac",
   "metadata": {},
   "outputs": [
    {
     "name": "stdout",
     "output_type": "stream",
     "text": [
      "Config: {'hidden': [64, 32], 'act': <class 'torch.nn.modules.activation.ReLU'>, 'opt': <class 'torch.optim.adamw.AdamW'>, 'lr': 0.001}\n",
      "Epoch 00 | train_loss=1.3626 val_loss=1.1006 acc=0.4688\n",
      "Epoch 10 | train_loss=0.9948 val_loss=1.0095 acc=0.5312\n",
      "Epoch 20 | train_loss=0.9527 val_loss=1.0121 acc=0.5000\n",
      "Epoch 30 | train_loss=0.9275 val_loss=1.0165 acc=0.5625\n",
      "Epoch 40 | train_loss=0.9053 val_loss=1.0026 acc=0.5312\n",
      "Epoch 49 | train_loss=0.8872 val_loss=0.9897 acc=0.5938\n",
      "Val accuracy = 0.5938\n",
      "Config: {'hidden': [128, 64, 32], 'act': <class 'torch.nn.modules.activation.ReLU'>, 'opt': <class 'torch.optim.adam.Adam'>, 'lr': 0.0005}\n",
      "Epoch 00 | train_loss=1.4031 val_loss=1.1798 acc=0.3750\n",
      "Epoch 10 | train_loss=0.9873 val_loss=1.0375 acc=0.4688\n",
      "Epoch 20 | train_loss=0.9392 val_loss=0.9305 acc=0.5938\n",
      "Epoch 30 | train_loss=0.9075 val_loss=0.9581 acc=0.5625\n",
      "Epoch 40 | train_loss=0.8789 val_loss=0.9129 acc=0.6562\n",
      "Epoch 49 | train_loss=0.8555 val_loss=0.9386 acc=0.5938\n",
      "Val accuracy = 0.5938\n",
      "Config: {'hidden': [128, 64], 'act': <class 'torch.nn.modules.activation.Tanh'>, 'opt': <class 'torch.optim.adamw.AdamW'>, 'lr': 0.001}\n",
      "Epoch 00 | train_loss=1.2118 val_loss=1.0392 acc=0.5000\n",
      "Epoch 10 | train_loss=0.9943 val_loss=0.9810 acc=0.5000\n",
      "Epoch 20 | train_loss=0.9466 val_loss=0.9098 acc=0.4688\n",
      "Epoch 30 | train_loss=0.8985 val_loss=0.8550 acc=0.5625\n",
      "Epoch 40 | train_loss=0.8542 val_loss=0.8343 acc=0.5312\n",
      "Epoch 49 | train_loss=0.8101 val_loss=0.9055 acc=0.5625\n",
      "Val accuracy = 0.5625\n"
     ]
    }
   ],
   "source": [
    "configs = [\n",
    "    {\n",
    "        \"hidden\" : [64, 32],\n",
    "        \"act\"    : nn.ReLU,\n",
    "        \"opt\"    : torch.optim.AdamW,\n",
    "        \"lr\"     : 1e-3,\n",
    "    },\n",
    "    {\n",
    "        \"hidden\" : [128, 64, 32],\n",
    "        \"act\"    : nn.ReLU,\n",
    "        \"opt\"    : torch.optim.Adam,\n",
    "        \"lr\"     : 5e-4,\n",
    "    },\n",
    "    {\n",
    "        \"hidden\" : [128, 64],\n",
    "        \"act\"    : nn.Tanh,\n",
    "        \"opt\"    : torch.optim.AdamW,\n",
    "        \"lr\"     : 1e-3,\n",
    "    },\n",
    "]\n",
    "\n",
    "best_model = None\n",
    "best_acc = 0\n",
    "\n",
    "for i, cfg in enumerate(configs):\n",
    "    print(\"Config:\", cfg)\n",
    "    model = MLP(hidden_layers=cfg[\"hidden\"], activation=cfg[\"act\"])\n",
    "    trained_model = train_model(model, cfg[\"opt\"], epochs=EPOCHS, lr=cfg[\"lr\"])\n",
    "\n",
    "    trained_model.eval()\n",
    "    xb_val, yb_val = next(iter(val_loader))\n",
    "    with torch.no_grad():\n",
    "        logits = trained_model(xb_val)\n",
    "        preds = torch.argmax(logits, dim=1)\n",
    "        acc = (preds == yb_val).float().mean().item()\n",
    "\n",
    "    print(f\"Val accuracy = {acc:.4f}\")\n",
    "    if acc > best_acc:\n",
    "        best_acc = acc\n",
    "        best_model = trained_model"
   ]
  },
  {
   "cell_type": "code",
   "execution_count": 13,
   "id": "2629bce0",
   "metadata": {},
   "outputs": [
    {
     "name": "stdout",
     "output_type": "stream",
     "text": [
      "\n",
      "Classification report:\n",
      "              precision    recall  f1-score   support\n",
      "\n",
      "           0       0.50      0.17      0.25         6\n",
      "           1       0.35      0.16      0.22        43\n",
      "           2       0.60      0.63      0.62       402\n",
      "           3       0.58      0.71      0.64       597\n",
      "           4       0.57      0.32      0.41       215\n",
      "           5       0.00      0.00      0.00        36\n",
      "           6       0.00      0.00      0.00         1\n",
      "\n",
      "    accuracy                           0.58      1300\n",
      "   macro avg       0.37      0.28      0.30      1300\n",
      "weighted avg       0.56      0.58      0.56      1300\n",
      "\n"
     ]
    },
    {
     "data": {
      "image/png": "[encoded data removed]",
      "text/plain": [
       "<Figure size 800x600 with 2 Axes>"
      ]
     },
     "metadata": {},
     "output_type": "display_data"
    }
   ],
   "source": [
    "if best_model is not None:\n",
    "    best_model.eval()\n",
    "    with torch.no_grad():\n",
    "        xb, yb = val_loader.dataset.tensors\n",
    "        preds = torch.argmax(best_model(xb), dim=1)\n",
    "\n",
    "    print(\"\\nClassification report:\")\n",
    "    print(classification_report(yb.numpy(), preds.numpy()))\n",
    "\n",
    "    cm = confusion_matrix(yb.numpy(), preds.numpy())\n",
    "    plt.figure(figsize=(8,6))\n",
    "    sns.heatmap(cm, annot=True, fmt=\"d\", cmap=\"Blues\")\n",
    "    plt.xlabel(\"Predicted\")\n",
    "    plt.ylabel(\"True\")\n",
    "    plt.title(\"Confusion Matrix\")\n",
    "    plt.show()\n",
    "else:\n",
    "    print(\"No best model found.\")"
   ]
  },
  {
   "cell_type": "markdown",
   "id": "4e4ef9f2",
   "metadata": {},
   "source": [
    "# Results"
   ]
  },
  {
   "cell_type": "markdown",
   "id": "629dd2be",
   "metadata": {},
   "source": [
    "Лучше всего модель предсказывает quality=6 (на conf matrix выше классы на 3 меньше реальных).\n",
    "Вообще не справлсяется с определением качества quality=8, 9\n",
    "В целом, модель хорошо предсказывает качество в районе 6"
   ]
  },
  {
   "cell_type": "code",
   "execution_count": null,
   "id": "15f686f1",
   "metadata": {},
   "outputs": [],
   "source": []
  }
 ],
 "metadata": {
  "kernelspec": {
   "display_name": "ML-HSE-Course (3.13.7)",
   "language": "python",
   "name": "python3"
  },
  "language_info": {
   "codemirror_mode": {
    "name": "ipython",
    "version": 3
   },
   "file_extension": ".py",
   "mimetype": "text/x-python",
   "name": "python",
   "nbconvert_exporter": "python",
   "pygments_lexer": "ipython3",
   "version": "3.13.7"
  }
 },
 "nbformat": 4,
 "nbformat_minor": 5
}
