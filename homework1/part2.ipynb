{
 "cells": [
  {
   "cell_type": "markdown",
   "id": "d9eb8e73",
   "metadata": {},
   "source": [
    "# Imports"
   ]
  },
  {
   "cell_type": "code",
   "execution_count": 1,
   "id": "1667e6bc",
   "metadata": {},
   "outputs": [],
   "source": [
    "from torch import nn\n",
    "from torch.utils.data import DataLoader, TensorDataset\n",
    "from torch.utils.tensorboard import SummaryWriter\n",
    "from sklearn.model_selection import train_test_split\n",
    "from sklearn.preprocessing import StandardScaler\n",
    "from sklearn.metrics import classification_report, confusion_matrix\n",
    "from pathlib import Path\n",
    "\n",
    "import pandas as pd\n",
    "import numpy as np\n",
    "import torch\n",
    "\n",
    "import matplotlib.pyplot as plt\n",
    "import seaborn as sns\n",
    "\n",
    "import warnings\n",
    "warnings.filterwarnings(\"ignore\")"
   ]
  },
  {
   "cell_type": "markdown",
   "id": "23216ff1",
   "metadata": {},
   "source": [
    "# Constants"
   ]
  },
  {
   "cell_type": "code",
   "execution_count": 2,
   "id": "4611c120",
   "metadata": {},
   "outputs": [
    {
     "data": {
      "text/plain": [
       "device(type='cpu')"
      ]
     },
     "execution_count": 2,
     "metadata": {},
     "output_type": "execute_result"
    }
   ],
   "source": [
    "BATCH_SIZE = 32\n",
    "EPOCHS = 100\n",
    "DEVICE = torch.device(\"cuda\" if torch.cuda.is_available() else \"cpu\")\n",
    "SEED = 42\n",
    "DEVICE"
   ]
  },
  {
   "cell_type": "markdown",
   "id": "2bfcdac4",
   "metadata": {},
   "source": [
    "### Set seed"
   ]
  },
  {
   "cell_type": "code",
   "execution_count": 3,
   "id": "9082ca3f",
   "metadata": {},
   "outputs": [],
   "source": [
    "import random\n",
    "random.seed(SEED)\n",
    "np.random.seed(SEED)\n",
    "torch.manual_seed(SEED)\n",
    "if torch.cuda.is_available():\n",
    "    torch.cuda.manual_seed(SEED)\n",
    "    torch.cuda.manual_seed_all(SEED)"
   ]
  },
  {
   "cell_type": "markdown",
   "id": "5985e530",
   "metadata": {},
   "source": [
    "# Read Data"
   ]
  },
  {
   "cell_type": "code",
   "execution_count": 4,
   "id": "ec4fd80c",
   "metadata": {},
   "outputs": [],
   "source": [
    "dataset_path = Path().resolve() / \"wine\"\n",
    "dataset_path\n",
    "df_red = pd.read_csv(dataset_path / \"winequality-red.csv\", sep=';')\n",
    "df_white = pd.read_csv(dataset_path / \"winequality-white.csv\", sep=';')\n",
    "df_red['color'] = 1\n",
    "df_white['color'] = 0\n",
    "df = pd.concat([df_red, df_white], ignore_index=True)"
   ]
  },
  {
   "cell_type": "code",
   "execution_count": 5,
   "id": "cf86a958",
   "metadata": {},
   "outputs": [],
   "source": [
    "X = df.drop('quality', axis=1).values\n",
    "y = df['quality'].values"
   ]
  },
  {
   "cell_type": "code",
   "execution_count": 6,
   "id": "a3e5fcd1",
   "metadata": {},
   "outputs": [],
   "source": [
    "X_train, X_val, y_train, y_val = train_test_split(\n",
    "    X, y, test_size=0.2, random_state=42,\n",
    ")"
   ]
  },
  {
   "cell_type": "code",
   "execution_count": 7,
   "id": "55ac5c35",
   "metadata": {},
   "outputs": [],
   "source": [
    "scaler = StandardScaler()\n",
    "X_train = scaler.fit_transform(X_train)\n",
    "X_val = scaler.transform(X_val)"
   ]
  },
  {
   "cell_type": "code",
   "execution_count": 8,
   "id": "0cf563da",
   "metadata": {},
   "outputs": [],
   "source": [
    "X_train = torch.tensor(X_train, dtype=torch.float32)\n",
    "y_train = torch.tensor(y_train - 3, dtype=torch.long).squeeze()\n",
    "X_val = torch.tensor(X_val, dtype=torch.float32)\n",
    "y_val = torch.tensor(y_val - 3, dtype=torch.long).squeeze()\n",
    "\n",
    "# Substract 3 because quality is from 3 to 9, and we want it from 0 to 6"
   ]
  },
  {
   "cell_type": "code",
   "execution_count": 9,
   "id": "e4a603cc",
   "metadata": {},
   "outputs": [],
   "source": [
    "train_ds = TensorDataset(X_train, y_train)\n",
    "val_ds = TensorDataset(X_val, y_val)\n",
    "\n",
    "train_loader = DataLoader(train_ds, batch_size=BATCH_SIZE, shuffle=True)\n",
    "val_loader = DataLoader(val_ds, batch_size=BATCH_SIZE)"
   ]
  },
  {
   "cell_type": "code",
   "execution_count": 10,
   "id": "fcbeb615",
   "metadata": {},
   "outputs": [],
   "source": [
    "n_features = X_train.shape[1]\n",
    "n_classes = len(np.unique(y))"
   ]
  },
  {
   "cell_type": "markdown",
   "id": "173090e4",
   "metadata": {},
   "source": [
    "# Prepare pipeline"
   ]
  },
  {
   "cell_type": "code",
   "execution_count": 11,
   "id": "9ea19d5d",
   "metadata": {},
   "outputs": [],
   "source": [
    "class MLP(nn.Module):\n",
    "    def __init__(self, hidden_layers : list[int] = [64, 32], activation = nn.ReLU):\n",
    "        super().__init__()\n",
    "        layers = []\n",
    "        in_dim = n_features\n",
    "        for h in hidden_layers:\n",
    "            layers.append(nn.Linear(in_dim, h))\n",
    "            layers.append(activation())\n",
    "            in_dim = h\n",
    "        layers.append(nn.Linear(in_dim, n_classes))\n",
    "        self.net = nn.Sequential(*layers)\n",
    "\n",
    "    def forward(self, x):\n",
    "        return self.net(x)"
   ]
  },
  {
   "cell_type": "code",
   "execution_count": 12,
   "id": "cb5f79fa",
   "metadata": {},
   "outputs": [],
   "source": [
    "def train_model(model: nn.Module, optimizer: torch.optim, epochs: int, lr: float):\n",
    "    criterion = nn.CrossEntropyLoss()\n",
    "    opt = optimizer(model.parameters(), lr=lr)\n",
    "    \n",
    "    writer = SummaryWriter(f'runs/PyTorch_{model.__class__.__name__}')\n",
    "    global_step = 0\n",
    "\n",
    "    for ep in range(epochs):\n",
    "        model.train()\n",
    "        total_loss = 0\n",
    "        for xb, yb in train_loader:\n",
    "            logits = model(xb)\n",
    "            loss = criterion(logits, yb)\n",
    "            opt.zero_grad()\n",
    "            loss.backward()\n",
    "            opt.step()\n",
    "            total_loss += loss.item()*xb.size(0)\n",
    "            \n",
    "            writer.add_scalar('Loss/Train_Batch', loss.item(), global_step)\n",
    "            global_step += 1\n",
    "        avg_loss = total_loss / len(train_loader.dataset)\n",
    "\n",
    "        model.eval()\n",
    "        xb_val,yb_val = next(iter(val_loader))\n",
    "        with torch.no_grad():\n",
    "            logits = model(xb_val)\n",
    "            val_loss = criterion(logits, yb_val).item()\n",
    "            preds = torch.argmax(logits, dim=1)\n",
    "            acc = (preds == yb_val).float().mean().item()\n",
    "\n",
    "        writer.add_scalar('Loss/Train_Epoch', avg_loss, ep)\n",
    "        writer.add_scalar('Loss/Validation', val_loss, ep)\n",
    "        writer.add_scalar('Accuracy/Validation', acc, ep)\n",
    "        writer.add_scalar('Learning_Rate', opt.param_groups[0]['lr'], ep)\n",
    "\n",
    "        if ep % 10 == 0 or ep == epochs-1:\n",
    "            print(f\"Epoch {ep:02d} | train_loss={avg_loss:.4f} val_loss={val_loss:.4f} acc={acc:.4f}\")\n",
    "\n",
    "    writer.close()\n",
    "    return model"
   ]
  },
  {
   "cell_type": "code",
   "execution_count": 13,
   "id": "d78905ac",
   "metadata": {},
   "outputs": [
    {
     "name": "stdout",
     "output_type": "stream",
     "text": [
      "Config: {'name': 'Config_1_ReLU_AdamW', 'hidden': [64, 32], 'act': <class 'torch.nn.modules.activation.ReLU'>, 'opt': <class 'torch.optim.adamw.AdamW'>, 'lr': 0.001}\n"
     ]
    },
    {
     "name": "stdout",
     "output_type": "stream",
     "text": [
      "Epoch 00 | train_loss=1.3344 val_loss=1.1178 acc=0.4375\n",
      "Epoch 10 | train_loss=1.0009 val_loss=1.0047 acc=0.4688\n",
      "Epoch 10 | train_loss=1.0009 val_loss=1.0047 acc=0.4688\n",
      "Epoch 20 | train_loss=0.9615 val_loss=0.9490 acc=0.5625\n",
      "Epoch 20 | train_loss=0.9615 val_loss=0.9490 acc=0.5625\n",
      "Epoch 30 | train_loss=0.9364 val_loss=0.9475 acc=0.5312\n",
      "Epoch 30 | train_loss=0.9364 val_loss=0.9475 acc=0.5312\n",
      "Epoch 40 | train_loss=0.9136 val_loss=0.9661 acc=0.5938\n",
      "Epoch 40 | train_loss=0.9136 val_loss=0.9661 acc=0.5938\n",
      "Epoch 50 | train_loss=0.8967 val_loss=0.9505 acc=0.5938\n",
      "Epoch 50 | train_loss=0.8967 val_loss=0.9505 acc=0.5938\n",
      "Epoch 60 | train_loss=0.8812 val_loss=0.9663 acc=0.5625\n",
      "Epoch 60 | train_loss=0.8812 val_loss=0.9663 acc=0.5625\n",
      "Epoch 70 | train_loss=0.8711 val_loss=0.9446 acc=0.6562\n",
      "Epoch 70 | train_loss=0.8711 val_loss=0.9446 acc=0.6562\n",
      "Epoch 80 | train_loss=0.8560 val_loss=0.9178 acc=0.6250\n",
      "Epoch 80 | train_loss=0.8560 val_loss=0.9178 acc=0.6250\n",
      "Epoch 90 | train_loss=0.8459 val_loss=0.9780 acc=0.5625\n",
      "Epoch 90 | train_loss=0.8459 val_loss=0.9780 acc=0.5625\n",
      "Epoch 99 | train_loss=0.8302 val_loss=0.9183 acc=0.5938\n",
      "Val accuracy = 0.5938\n",
      "Config: {'name': 'Config_2_ReLU_Adam', 'hidden': [128, 64, 32], 'act': <class 'torch.nn.modules.activation.ReLU'>, 'opt': <class 'torch.optim.adam.Adam'>, 'lr': 0.0005}\n",
      "Epoch 00 | train_loss=1.3435 val_loss=1.1204 acc=0.4062\n",
      "Epoch 99 | train_loss=0.8302 val_loss=0.9183 acc=0.5938\n",
      "Val accuracy = 0.5938\n",
      "Config: {'name': 'Config_2_ReLU_Adam', 'hidden': [128, 64, 32], 'act': <class 'torch.nn.modules.activation.ReLU'>, 'opt': <class 'torch.optim.adam.Adam'>, 'lr': 0.0005}\n",
      "Epoch 00 | train_loss=1.3435 val_loss=1.1204 acc=0.4062\n",
      "Epoch 10 | train_loss=0.9888 val_loss=1.0507 acc=0.5000\n",
      "Epoch 10 | train_loss=0.9888 val_loss=1.0507 acc=0.5000\n",
      "Epoch 20 | train_loss=0.9414 val_loss=1.0183 acc=0.5000\n",
      "Epoch 20 | train_loss=0.9414 val_loss=1.0183 acc=0.5000\n",
      "Epoch 30 | train_loss=0.9092 val_loss=1.0524 acc=0.5312\n",
      "Epoch 30 | train_loss=0.9092 val_loss=1.0524 acc=0.5312\n",
      "Epoch 40 | train_loss=0.8707 val_loss=0.9704 acc=0.5625\n",
      "Epoch 40 | train_loss=0.8707 val_loss=0.9704 acc=0.5625\n",
      "Epoch 50 | train_loss=0.8397 val_loss=0.9656 acc=0.6250\n",
      "Epoch 50 | train_loss=0.8397 val_loss=0.9656 acc=0.6250\n",
      "Epoch 60 | train_loss=0.8132 val_loss=0.9706 acc=0.5312\n",
      "Epoch 60 | train_loss=0.8132 val_loss=0.9706 acc=0.5312\n",
      "Epoch 70 | train_loss=0.7815 val_loss=0.9393 acc=0.6250\n",
      "Epoch 70 | train_loss=0.7815 val_loss=0.9393 acc=0.6250\n",
      "Epoch 80 | train_loss=0.7533 val_loss=0.9951 acc=0.6562\n",
      "Epoch 80 | train_loss=0.7533 val_loss=0.9951 acc=0.6562\n",
      "Epoch 90 | train_loss=0.7270 val_loss=0.9893 acc=0.5938\n",
      "Epoch 90 | train_loss=0.7270 val_loss=0.9893 acc=0.5938\n",
      "Epoch 99 | train_loss=0.7068 val_loss=1.0489 acc=0.5938\n",
      "Val accuracy = 0.5938\n",
      "Config: {'name': 'Config_3_Tanh_AdamW', 'hidden': [128, 64], 'act': <class 'torch.nn.modules.activation.Tanh'>, 'opt': <class 'torch.optim.adamw.AdamW'>, 'lr': 0.001}\n",
      "Epoch 00 | train_loss=1.2007 val_loss=1.0306 acc=0.4688\n",
      "Epoch 99 | train_loss=0.7068 val_loss=1.0489 acc=0.5938\n",
      "Val accuracy = 0.5938\n",
      "Config: {'name': 'Config_3_Tanh_AdamW', 'hidden': [128, 64], 'act': <class 'torch.nn.modules.activation.Tanh'>, 'opt': <class 'torch.optim.adamw.AdamW'>, 'lr': 0.001}\n",
      "Epoch 00 | train_loss=1.2007 val_loss=1.0306 acc=0.4688\n",
      "Epoch 10 | train_loss=1.0004 val_loss=0.9825 acc=0.4688\n",
      "Epoch 10 | train_loss=1.0004 val_loss=0.9825 acc=0.4688\n",
      "Epoch 20 | train_loss=0.9440 val_loss=0.8836 acc=0.5625\n",
      "Epoch 20 | train_loss=0.9440 val_loss=0.8836 acc=0.5625\n",
      "Epoch 30 | train_loss=0.8944 val_loss=0.9041 acc=0.5938\n",
      "Epoch 30 | train_loss=0.8944 val_loss=0.9041 acc=0.5938\n",
      "Epoch 40 | train_loss=0.8473 val_loss=0.8492 acc=0.6562\n",
      "Epoch 40 | train_loss=0.8473 val_loss=0.8492 acc=0.6562\n",
      "Epoch 50 | train_loss=0.8059 val_loss=0.8807 acc=0.6562\n",
      "Epoch 50 | train_loss=0.8059 val_loss=0.8807 acc=0.6562\n",
      "Epoch 60 | train_loss=0.7566 val_loss=0.9131 acc=0.6562\n",
      "Epoch 60 | train_loss=0.7566 val_loss=0.9131 acc=0.6562\n",
      "Epoch 70 | train_loss=0.7083 val_loss=0.8976 acc=0.6562\n",
      "Epoch 70 | train_loss=0.7083 val_loss=0.8976 acc=0.6562\n",
      "Epoch 80 | train_loss=0.6618 val_loss=0.9636 acc=0.7188\n",
      "Epoch 80 | train_loss=0.6618 val_loss=0.9636 acc=0.7188\n",
      "Epoch 90 | train_loss=0.6172 val_loss=1.0009 acc=0.7188\n",
      "Epoch 90 | train_loss=0.6172 val_loss=1.0009 acc=0.7188\n",
      "Epoch 99 | train_loss=0.5753 val_loss=1.0153 acc=0.6875\n",
      "Val accuracy = 0.6875\n",
      "Epoch 99 | train_loss=0.5753 val_loss=1.0153 acc=0.6875\n",
      "Val accuracy = 0.6875\n"
     ]
    }
   ],
   "source": [
    "configs = [\n",
    "    {\n",
    "        \"name\"   : \"Config_1_ReLU_AdamW\",\n",
    "        \"hidden\" : [64, 32],\n",
    "        \"act\"    : nn.ReLU,\n",
    "        \"opt\"    : torch.optim.AdamW,\n",
    "        \"lr\"     : 1e-3,\n",
    "    },\n",
    "    {\n",
    "        \"name\"   : \"Config_2_ReLU_Adam\",\n",
    "        \"hidden\" : [128, 64, 32],\n",
    "        \"act\"    : nn.ReLU,\n",
    "        \"opt\"    : torch.optim.Adam,\n",
    "        \"lr\"     : 5e-4,\n",
    "    },\n",
    "    {\n",
    "        \"name\"   : \"Config_3_Tanh_AdamW\",\n",
    "        \"hidden\" : [128, 64],\n",
    "        \"act\"    : nn.Tanh,\n",
    "        \"opt\"    : torch.optim.AdamW,\n",
    "        \"lr\"     : 1e-3,\n",
    "    },\n",
    "]\n",
    "\n",
    "best_model = None\n",
    "best_acc = 0\n",
    "\n",
    "for i, cfg in enumerate(configs):\n",
    "    print(\"Config:\", cfg)\n",
    "    model = MLP(hidden_layers=cfg[\"hidden\"], activation=cfg[\"act\"])\n",
    "    \n",
    "    criterion = nn.CrossEntropyLoss()\n",
    "    opt = cfg[\"opt\"](model.parameters(), lr=cfg[\"lr\"])\n",
    "    \n",
    "    writer = SummaryWriter(f'runs/PyTorch_{cfg[\"name\"]}')\n",
    "    global_step = 0\n",
    "\n",
    "    for ep in range(EPOCHS):\n",
    "        model.train()\n",
    "        total_loss = 0\n",
    "        for xb, yb in train_loader:\n",
    "            logits = model(xb)\n",
    "            loss = criterion(logits, yb)\n",
    "            opt.zero_grad()\n",
    "            loss.backward()\n",
    "            opt.step()\n",
    "            total_loss += loss.item()*xb.size(0)\n",
    "            \n",
    "            writer.add_scalar('Loss/Train_Batch', loss.item(), global_step)\n",
    "            global_step += 1\n",
    "        avg_loss = total_loss / len(train_loader.dataset)\n",
    "\n",
    "        model.eval()\n",
    "        xb_val,yb_val = next(iter(val_loader))\n",
    "        with torch.no_grad():\n",
    "            logits = model(xb_val)\n",
    "            val_loss = criterion(logits, yb_val).item()\n",
    "            preds = torch.argmax(logits, dim=1)\n",
    "            acc = (preds == yb_val).float().mean().item()\n",
    "\n",
    "        writer.add_scalar('Loss/Train_Epoch', avg_loss, ep)\n",
    "        writer.add_scalar('Loss/Validation', val_loss, ep)\n",
    "        writer.add_scalar('Accuracy/Validation', acc, ep)\n",
    "        writer.add_scalar('Learning_Rate', opt.param_groups[0]['lr'], ep)\n",
    "\n",
    "        if ep % 10 == 0 or ep == EPOCHS-1:\n",
    "            print(f\"Epoch {ep:02d} | train_loss={avg_loss:.4f} val_loss={val_loss:.4f} acc={acc:.4f}\")\n",
    "\n",
    "    writer.close()\n",
    "\n",
    "    model.eval()\n",
    "    xb_val, yb_val = next(iter(val_loader))\n",
    "    with torch.no_grad():\n",
    "        logits = model(xb_val)\n",
    "        preds = torch.argmax(logits, dim=1)\n",
    "        acc = (preds == yb_val).float().mean().item()\n",
    "\n",
    "    print(f\"Val accuracy = {acc:.4f}\")\n",
    "    if acc > best_acc:\n",
    "        best_acc = acc\n",
    "        best_model = model"
   ]
  },
  {
   "cell_type": "code",
   "execution_count": 14,
   "id": "2629bce0",
   "metadata": {},
   "outputs": [
    {
     "name": "stdout",
     "output_type": "stream",
     "text": [
      "Classification report:\n",
      "              precision    recall  f1-score   support\n",
      "\n",
      "           0       0.33      0.17      0.22         6\n",
      "           1       0.25      0.12      0.16        43\n",
      "           2       0.60      0.67      0.63       402\n",
      "           3       0.62      0.64      0.63       597\n",
      "           4       0.54      0.49      0.51       215\n",
      "           5       0.53      0.25      0.34        36\n",
      "           6       0.00      0.00      0.00         1\n",
      "\n",
      "    accuracy                           0.60      1300\n",
      "   macro avg       0.41      0.33      0.36      1300\n",
      "weighted avg       0.59      0.60      0.59      1300\n",
      "\n"
     ]
    },
    {
     "data": {
      "image/png": "[encoded data removed]",
      "text/plain": [
       "<Figure size 800x600 with 2 Axes>"
      ]
     },
     "metadata": {},
     "output_type": "display_data"
    }
   ],
   "source": [
    "if best_model is not None:\n",
    "    best_model.eval()\n",
    "    with torch.no_grad():\n",
    "        xb, yb = val_loader.dataset.tensors\n",
    "        preds = torch.argmax(best_model(xb), dim=1)\n",
    "\n",
    "    print(\"Classification report:\")\n",
    "    print(classification_report(yb.numpy(), preds.numpy()))\n",
    "\n",
    "    cm = confusion_matrix(yb.numpy(), preds.numpy())\n",
    "    plt.figure(figsize=(8,6))\n",
    "    sns.heatmap(cm, annot=True, fmt=\"d\", cmap=\"Blues\")\n",
    "    plt.xlabel(\"Predicted\")\n",
    "    plt.ylabel(\"True\")\n",
    "    plt.title(\"Confusion Matrix\")\n",
    "    plt.show()\n",
    "else:\n",
    "    print(\"No best model found.\")"
   ]
  },
  {
   "cell_type": "markdown",
   "id": "4e4ef9f2",
   "metadata": {},
   "source": [
    "# Results"
   ]
  },
  {
   "cell_type": "markdown",
   "id": "629dd2be",
   "metadata": {},
   "source": [
    "Лучше всего модель предсказывает quality=6 (на conf matrix выше классы на 3 меньше реальных).\n",
    "Вообще не справлсяется с определением качества quality=8, 9\n",
    "В целом, модель хорошо предсказывает качество в районе 6"
   ]
  },
  {
   "cell_type": "markdown",
   "id": "09c123cf",
   "metadata": {},
   "source": [
    "# Part 3"
   ]
  },
  {
   "cell_type": "code",
   "execution_count": 15,
   "id": "da667f38",
   "metadata": {},
   "outputs": [],
   "source": [
    "from microtorch.layer import Linear, Sequential\n",
    "from microtorch.loss import CrossEntropyWithLogits\n",
    "from microtorch.optimizer import AdamOptimizer\n",
    "from microtorch.activation import ReLU, Tanh"
   ]
  },
  {
   "cell_type": "markdown",
   "id": "fd955d66",
   "metadata": {},
   "source": [
    "## Test section"
   ]
  },
  {
   "cell_type": "markdown",
   "id": "58cb01f4",
   "metadata": {},
   "source": [
    "#### Test Linear Layer"
   ]
  },
  {
   "cell_type": "code",
   "execution_count": 16,
   "id": "0a09599d",
   "metadata": {},
   "outputs": [],
   "source": [
    "linear_mt = Linear(5, 10)\n",
    "linear_pt = nn.Linear(5, 10)"
   ]
  },
  {
   "cell_type": "code",
   "execution_count": 17,
   "id": "a2909aaf",
   "metadata": {},
   "outputs": [],
   "source": [
    "for param in linear_mt.parameters():\n",
    "    param.value = np.zeros_like(param.value)\n",
    "\n",
    "for param in linear_pt.parameters():\n",
    "    param.data.fill_(0)"
   ]
  },
  {
   "cell_type": "code",
   "execution_count": 18,
   "id": "fe8f71b1",
   "metadata": {},
   "outputs": [
    {
     "name": "stdout",
     "output_type": "stream",
     "text": [
      "Linear layer outputs match!\n"
     ]
    }
   ],
   "source": [
    "for _ in range(1000):\n",
    "    test_x = torch.randn((2, 5))\n",
    "    out_mt = linear_mt(test_x.numpy().astype(np.float32))\n",
    "    out_pt = linear_pt(test_x)\n",
    "    if not np.allclose(out_mt, out_pt.detach().numpy(), rtol=1e-3):\n",
    "        print(\"Outputs differ!\")\n",
    "        print(\"Microtorch output:\", out_mt)\n",
    "        print(\"Torch output:\", out_pt.detach().numpy())\n",
    "        break\n",
    "else:\n",
    "    print(\"Linear layer outputs match!\")"
   ]
  },
  {
   "cell_type": "markdown",
   "id": "dd564b91",
   "metadata": {},
   "source": [
    "#### Test ReLU"
   ]
  },
  {
   "cell_type": "code",
   "execution_count": 19,
   "id": "c21398ef",
   "metadata": {},
   "outputs": [],
   "source": [
    "relu_mt = ReLU()\n",
    "relu_pt = nn.ReLU()"
   ]
  },
  {
   "cell_type": "code",
   "execution_count": 20,
   "id": "648a5c85",
   "metadata": {},
   "outputs": [
    {
     "name": "stdout",
     "output_type": "stream",
     "text": [
      "ReLU outputs match!\n"
     ]
    }
   ],
   "source": [
    "for _ in range(1000):\n",
    "    test_x = torch.randn((2, 5))\n",
    "    out_mt = relu_mt(test_x.numpy().astype(np.float32))\n",
    "    out_pt = relu_pt(test_x)\n",
    "    if not np.allclose(out_mt, out_pt.detach().numpy(), rtol=1e-3):\n",
    "        print(\"Outputs differ!\")\n",
    "        print(\"Microtorch output:\", out_mt)\n",
    "        print(\"Torch output:\", out_pt.detach().numpy())\n",
    "        break\n",
    "else:\n",
    "    print(\"ReLU outputs match!\")"
   ]
  },
  {
   "cell_type": "markdown",
   "id": "7f9167c6",
   "metadata": {},
   "source": [
    "#### Test Tanh"
   ]
  },
  {
   "cell_type": "code",
   "execution_count": 21,
   "id": "045b612e",
   "metadata": {},
   "outputs": [],
   "source": [
    "tanh_mt = Tanh()\n",
    "tanh_pt = nn.Tanh()"
   ]
  },
  {
   "cell_type": "code",
   "execution_count": 22,
   "id": "49d4af2f",
   "metadata": {},
   "outputs": [
    {
     "name": "stdout",
     "output_type": "stream",
     "text": [
      "Tanh outputs match!\n"
     ]
    }
   ],
   "source": [
    "for _ in range(1000):\n",
    "    test_x = torch.randn((2, 5))\n",
    "    out_mt = tanh_mt(test_x.numpy().astype(np.float32))\n",
    "    out_pt = tanh_pt(test_x)\n",
    "    if not np.allclose(out_mt, out_pt.detach().numpy(), rtol=1e-3):\n",
    "        print(\"Outputs differ!\")\n",
    "        print(\"Microtorch output:\", out_mt)\n",
    "        print(\"Torch output:\", out_pt.detach().numpy())\n",
    "        break\n",
    "else:\n",
    "    print(\"Tanh outputs match!\")"
   ]
  },
  {
   "cell_type": "markdown",
   "id": "7b067ee0",
   "metadata": {},
   "source": [
    "#### Test Sequential"
   ]
  },
  {
   "cell_type": "code",
   "execution_count": 23,
   "id": "69e6b5d6",
   "metadata": {},
   "outputs": [],
   "source": [
    "seq_mt = Sequential(\n",
    "    Linear(n_features, 64),\n",
    "    ReLU(),\n",
    "    Linear(64, 32),\n",
    "    Tanh(),\n",
    "    Linear(32, n_classes)\n",
    ")\n",
    "\n",
    "seq_pt = nn.Sequential(\n",
    "    nn.Linear(n_features, 64),\n",
    "    nn.ReLU(),\n",
    "    nn.Linear(64, 32),\n",
    "    nn.Tanh(),\n",
    "    nn.Linear(32, n_classes)\n",
    ")\n"
   ]
  },
  {
   "cell_type": "code",
   "execution_count": 24,
   "id": "eb839081",
   "metadata": {},
   "outputs": [],
   "source": [
    "for param in seq_mt.parameters():\n",
    "    param.value = np.ones_like(param.value)\n",
    "\n",
    "for param in seq_pt.parameters():\n",
    "    param.data.fill_(1.0)"
   ]
  },
  {
   "cell_type": "code",
   "execution_count": 25,
   "id": "8d452dd0",
   "metadata": {},
   "outputs": [
    {
     "name": "stdout",
     "output_type": "stream",
     "text": [
      "Sequential outputs match!\n"
     ]
    }
   ],
   "source": [
    "for _ in range(1000):\n",
    "    test_x = torch.randn((BATCH_SIZE, n_features))\n",
    "    out_mt = seq_mt(test_x.numpy().astype(np.float32))\n",
    "    out_pt = seq_pt(test_x)\n",
    "    if not np.allclose(out_mt, out_pt.detach().numpy(), rtol=1e-3):\n",
    "        print(\"Outputs differ!\")\n",
    "        print(\"Microtorch output:\", out_mt)\n",
    "        print(\"Torch output:\", out_pt.detach().numpy())\n",
    "        break\n",
    "else:\n",
    "    print(\"Sequential outputs match!\")"
   ]
  },
  {
   "cell_type": "markdown",
   "id": "6e7ae070",
   "metadata": {},
   "source": [
    "#### Test of gradients"
   ]
  },
  {
   "cell_type": "code",
   "execution_count": 26,
   "id": "d2a7d3b8",
   "metadata": {},
   "outputs": [],
   "source": [
    "mt_params = seq_mt.parameters()\n",
    "pt_params = seq_pt.parameters()"
   ]
  },
  {
   "cell_type": "code",
   "execution_count": 27,
   "id": "5c926565",
   "metadata": {},
   "outputs": [],
   "source": [
    "pt_loss_fn = nn.CrossEntropyLoss()\n",
    "mt_loss_fn = CrossEntropyWithLogits()"
   ]
  },
  {
   "cell_type": "code",
   "execution_count": 28,
   "id": "96611ab2",
   "metadata": {},
   "outputs": [],
   "source": [
    "test_x = torch.randn((8, n_features))\n",
    "test_y = torch.randint(0, n_classes, (8,))"
   ]
  },
  {
   "cell_type": "code",
   "execution_count": 29,
   "id": "4384f79b",
   "metadata": {},
   "outputs": [],
   "source": [
    "pt_logits = seq_pt(test_x)\n",
    "mt_logits = seq_mt(test_x.numpy().astype(np.float32))"
   ]
  },
  {
   "cell_type": "code",
   "execution_count": 30,
   "id": "52c9641e",
   "metadata": {},
   "outputs": [
    {
     "name": "stdout",
     "output_type": "stream",
     "text": [
      "Forward pass comparison:\n",
      "PyTorch loss: 1.945910\n",
      "MicroTorch loss: 1.945910\n",
      "Logits match: True\n"
     ]
    }
   ],
   "source": [
    "pt_loss = pt_loss_fn(pt_logits, test_y)\n",
    "mt_loss = mt_loss_fn.forward(mt_logits, test_y.numpy())\n",
    "\n",
    "print(\"Forward pass comparison:\")\n",
    "print(f\"PyTorch loss: {pt_loss.item():.6f}\")\n",
    "print(f\"MicroTorch loss: {mt_loss:.6f}\")\n",
    "print(f\"Logits match: {np.allclose(pt_logits.detach().numpy(), mt_logits, atol=1e-5)}\")"
   ]
  },
  {
   "cell_type": "code",
   "execution_count": 31,
   "id": "7a8b97a1",
   "metadata": {},
   "outputs": [
    {
     "data": {
      "text/plain": [
       "array([[0., 0., 0., 0., 0., 0., 0., 0., 0., 0., 0., 0.],\n",
       "       [0., 0., 0., 0., 0., 0., 0., 0., 0., 0., 0., 0.],\n",
       "       [0., 0., 0., 0., 0., 0., 0., 0., 0., 0., 0., 0.],\n",
       "       [0., 0., 0., 0., 0., 0., 0., 0., 0., 0., 0., 0.],\n",
       "       [0., 0., 0., 0., 0., 0., 0., 0., 0., 0., 0., 0.],\n",
       "       [0., 0., 0., 0., 0., 0., 0., 0., 0., 0., 0., 0.],\n",
       "       [0., 0., 0., 0., 0., 0., 0., 0., 0., 0., 0., 0.],\n",
       "       [0., 0., 0., 0., 0., 0., 0., 0., 0., 0., 0., 0.]], dtype=float32)"
      ]
     },
     "execution_count": 31,
     "metadata": {},
     "output_type": "execute_result"
    }
   ],
   "source": [
    "pt_loss.backward()\n",
    "\n",
    "mt_grad_output = mt_loss_fn.backward()\n",
    "seq_mt.backward(mt_grad_output)"
   ]
  },
  {
   "cell_type": "code",
   "execution_count": 32,
   "id": "62ad04bf",
   "metadata": {},
   "outputs": [
    {
     "name": "stdout",
     "output_type": "stream",
     "text": [
      "Complete!\n"
     ]
    }
   ],
   "source": [
    "for pt_param, mt_param in zip(\n",
    "    seq_pt.parameters(),\n",
    "    seq_mt.parameters(),\n",
    "):\n",
    "    if not np.allclose(pt_param.data.detach().numpy(), mt_param.value, atol=1e-5):\n",
    "        print(f\"Parameter values differ! PT: {pt_param.name}, MT: {mt_param.name}\")\n",
    "        break\n",
    "    \n",
    "    if not np.allclose(pt_param.grad.detach().numpy(), mt_param.grad, atol=1e-5):\n",
    "        print(f\"Parameter gradients differ! PT: {pt_param.name}, MT: {mt_param.name}\")\n",
    "        print(\"PyTorch grad:\", pt_param.grad.detach().numpy())\n",
    "        print(\"Microtorch grad:\", mt_param.grad)\n",
    "        break\n",
    "else:\n",
    "    print(\"Complete!\")\n"
   ]
  },
  {
   "cell_type": "markdown",
   "id": "df339355",
   "metadata": {},
   "source": [
    "# Train Model"
   ]
  },
  {
   "cell_type": "code",
   "execution_count": 33,
   "id": "ae81af6a",
   "metadata": {},
   "outputs": [],
   "source": [
    "mt_model = Sequential(\n",
    "    Linear(n_features, 128),\n",
    "    Tanh(),\n",
    "    Linear(128, 64),\n",
    "    Tanh(),\n",
    "    Linear(64, n_classes)\n",
    ")"
   ]
  },
  {
   "cell_type": "code",
   "execution_count": 34,
   "id": "691887da",
   "metadata": {},
   "outputs": [],
   "source": [
    "criterion = CrossEntropyWithLogits()\n",
    "opt = AdamOptimizer(\n",
    "    model        = mt_model,\n",
    "    lr           = 1e-3,\n",
    "    weight_decay = 0.00,\n",
    ")"
   ]
  },
  {
   "cell_type": "code",
   "execution_count": 35,
   "id": "198e8bcc",
   "metadata": {},
   "outputs": [
    {
     "name": "stdout",
     "output_type": "stream",
     "text": [
      "Epoch 00 | train_loss=1.2891 val_loss=1.0541 acc=0.4688\n"
     ]
    },
    {
     "name": "stdout",
     "output_type": "stream",
     "text": [
      "Epoch 10 | train_loss=1.0080 val_loss=0.9969 acc=0.4688\n",
      "Epoch 20 | train_loss=0.9564 val_loss=0.8809 acc=0.5625\n",
      "Epoch 20 | train_loss=0.9564 val_loss=0.8809 acc=0.5625\n",
      "Epoch 30 | train_loss=0.9075 val_loss=0.8821 acc=0.5938\n",
      "Epoch 30 | train_loss=0.9075 val_loss=0.8821 acc=0.5938\n",
      "Epoch 40 | train_loss=0.8618 val_loss=0.8557 acc=0.6562\n",
      "Epoch 40 | train_loss=0.8618 val_loss=0.8557 acc=0.6562\n",
      "Epoch 50 | train_loss=0.8134 val_loss=0.8539 acc=0.6875\n",
      "Epoch 50 | train_loss=0.8134 val_loss=0.8539 acc=0.6875\n",
      "Epoch 60 | train_loss=0.7721 val_loss=0.8728 acc=0.7188\n",
      "Epoch 60 | train_loss=0.7721 val_loss=0.8728 acc=0.7188\n",
      "Epoch 70 | train_loss=0.7274 val_loss=0.8730 acc=0.6562\n",
      "Epoch 70 | train_loss=0.7274 val_loss=0.8730 acc=0.6562\n",
      "Epoch 80 | train_loss=0.6865 val_loss=0.9117 acc=0.6562\n",
      "Epoch 80 | train_loss=0.6865 val_loss=0.9117 acc=0.6562\n",
      "Epoch 90 | train_loss=0.6400 val_loss=0.9120 acc=0.6875\n",
      "Epoch 90 | train_loss=0.6400 val_loss=0.9120 acc=0.6875\n",
      "Epoch 99 | train_loss=0.6019 val_loss=0.9417 acc=0.6875\n",
      "Epoch 99 | train_loss=0.6019 val_loss=0.9417 acc=0.6875\n"
     ]
    }
   ],
   "source": [
    "writer = SummaryWriter(f'runs/MicroTorch_Model')\n",
    "global_step = 0\n",
    "\n",
    "for ep in range(EPOCHS):\n",
    "    total_loss = 0.0\n",
    "    for xb, yb in train_loader:\n",
    "        xb_np = xb.numpy().astype(np.float32)\n",
    "        yb_np = yb.numpy().astype(np.int64)\n",
    "\n",
    "        logits = mt_model(xb_np)\n",
    "        loss = criterion.forward(logits, yb_np)\n",
    "\n",
    "        opt.zero_grad()\n",
    "        grad = criterion.backward()\n",
    "        mt_model.backward(grad)\n",
    "        \n",
    "        opt.step()\n",
    "        \n",
    "        total_loss += float(loss) * xb_np.shape[0]\n",
    "        \n",
    "        writer.add_scalar('Loss/Train_Batch', float(loss), global_step)\n",
    "        global_step += 1\n",
    "    avg_loss = total_loss / len(train_loader.dataset)\n",
    "\n",
    "    xb_val, yb_val = next(iter(val_loader))\n",
    "    xb_val_np = xb_val.numpy().astype(np.float32)\n",
    "    yb_val_np = yb_val.numpy().astype(np.int64)\n",
    "    val_logits = mt_model(xb_val_np)\n",
    "    val_loss = criterion.forward(val_logits, yb_val_np)\n",
    "    val_preds = np.argmax(val_logits, axis=1)\n",
    "    acc = float(np.mean(val_preds == yb_val_np))\n",
    "    \n",
    "    writer.add_scalar('Loss/Train_Epoch', avg_loss, ep)\n",
    "    writer.add_scalar('Loss/Validation', float(val_loss), ep)\n",
    "    writer.add_scalar('Accuracy/Validation', acc, ep)\n",
    "    writer.add_scalar('Learning_Rate', opt.lr, ep)\n",
    "\n",
    "    if ep % 10 == 0 or ep == EPOCHS-1:\n",
    "        print(f\"Epoch {ep:02d} | train_loss={avg_loss:.4f} val_loss={float(val_loss):.4f} acc={acc:.4f}\")\n",
    "\n",
    "writer.close()"
   ]
  },
  {
   "cell_type": "code",
   "execution_count": 36,
   "id": "06e1f9ff",
   "metadata": {},
   "outputs": [
    {
     "name": "stdout",
     "output_type": "stream",
     "text": [
      "Final validation accuracy: 0.5746\n",
      "Classification report:\n",
      "              precision    recall  f1-score   support\n",
      "\n",
      "           0       0.50      0.17      0.25         6\n",
      "           1       0.30      0.14      0.19        43\n",
      "           2       0.57      0.69      0.62       402\n",
      "           3       0.61      0.59      0.60       597\n",
      "           4       0.52      0.47      0.49       215\n",
      "           5       0.50      0.25      0.33        36\n",
      "           6       0.00      0.00      0.00         1\n",
      "\n",
      "    accuracy                           0.57      1300\n",
      "   macro avg       0.43      0.33      0.36      1300\n",
      "weighted avg       0.57      0.57      0.57      1300\n",
      "\n"
     ]
    },
    {
     "data": {
      "image/png": "[encoded data removed]",
      "text/plain": [
       "<Figure size 800x600 with 2 Axes>"
      ]
     },
     "metadata": {},
     "output_type": "display_data"
    },
    {
     "name": "stdout",
     "output_type": "stream",
     "text": [
      "Final accuracy: 0.5746\n"
     ]
    }
   ],
   "source": [
    "X_val_np = X_val.numpy().astype(np.float32)\n",
    "y_val_np = (y_val).numpy().astype(np.int64)\n",
    "\n",
    "val_logits = mt_model(X_val_np)\n",
    "val_preds = np.argmax(val_logits, axis=1)\n",
    "val_accuracy = np.mean(val_preds == y_val_np)\n",
    "\n",
    "print(f\"Final validation accuracy: {val_accuracy:.4f}\")\n",
    "print(\"Classification report:\")\n",
    "print(classification_report(y_val_np, val_preds))\n",
    "\n",
    "# Confusion matrix\n",
    "cm = confusion_matrix(y_val_np, val_preds)\n",
    "plt.figure(figsize=(8, 6))\n",
    "sns.heatmap(cm, annot=True, fmt=\"d\", cmap=\"Blues\")\n",
    "plt.xlabel(\"Predicted\")\n",
    "plt.ylabel(\"True\")\n",
    "plt.title(f\"MicroTorch Model - Confusion Matrix (Accuracy: {val_accuracy:.3f})\")\n",
    "plt.show()\n",
    "\n",
    "print(f\"Final accuracy: {val_accuracy:.4f}\")"
   ]
  }
 ],
 "metadata": {
  "kernelspec": {
   "display_name": "ML-HSE-Course (3.13.7)",
   "language": "python",
   "name": "python3"
  },
  "language_info": {
   "codemirror_mode": {
    "name": "ipython",
    "version": 3
   },
   "file_extension": ".py",
   "mimetype": "text/x-python",
   "name": "python",
   "nbconvert_exporter": "python",
   "pygments_lexer": "ipython3",
   "version": "3.13.7"
  }
 },
 "nbformat": 4,
 "nbformat_minor": 5
}
